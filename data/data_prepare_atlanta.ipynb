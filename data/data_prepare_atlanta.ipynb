{
 "cells": [
  {
   "cell_type": "markdown",
   "metadata": {},
   "source": [
    "# Data preprocessing | project atlanta"
   ]
  },
  {
   "cell_type": "markdown",
   "metadata": {},
   "source": [
    "Project Members : \n",
    "\n",
    "Amy Caboor\n",
    "Akhil Pandey\n",
    "Kelly Finigan\n",
    "Anudeep"
   ]
  },
  {
   "cell_type": "markdown",
   "metadata": {},
   "source": [
    "### 1. Import libraries"
   ]
  },
  {
   "cell_type": "code",
   "execution_count": 1,
   "metadata": {},
   "outputs": [],
   "source": [
    "import os\n",
    "import re\n",
    "import glob\n",
    "import googlemaps\n",
    "import numpy as np\n",
    "import pandas as pd\n",
    "import seaborn as sns\n",
    "from tqdm import tqdm\n",
    "import geopandas as gpd\n",
    "import matplotlib.pyplot as plt\n",
    "from collections import Counter\n",
    "from shapely.geometry import Point\n",
    "\n",
    "%matplotlib inline"
   ]
  },
  {
   "cell_type": "markdown",
   "metadata": {},
   "source": [
    "### 2. Prepare the data"
   ]
  },
  {
   "cell_type": "markdown",
   "metadata": {},
   "source": [
    "#### 2.1 Go into the data directory"
   ]
  },
  {
   "cell_type": "code",
   "execution_count": 2,
   "metadata": {},
   "outputs": [],
   "source": [
    "# set the data directory\n",
    "os.chdir('data/')\n",
    "\n",
    "# take all the csv files listed in the data directory\n",
    "files = os.listdir('./')"
   ]
  },
  {
   "cell_type": "markdown",
   "metadata": {},
   "source": [
    "#### 2.2 Choose all the csv files and ignore the remaining file types"
   ]
  },
  {
   "cell_type": "code",
   "execution_count": 3,
   "metadata": {},
   "outputs": [
    {
     "data": {
      "text/html": [
       "<div>\n",
       "<style scoped>\n",
       "    .dataframe tbody tr th:only-of-type {\n",
       "        vertical-align: middle;\n",
       "    }\n",
       "\n",
       "    .dataframe tbody tr th {\n",
       "        vertical-align: top;\n",
       "    }\n",
       "\n",
       "    .dataframe thead th {\n",
       "        text-align: right;\n",
       "    }\n",
       "</style>\n",
       "<table border=\"1\" class=\"dataframe\">\n",
       "  <thead>\n",
       "    <tr style=\"text-align: right;\">\n",
       "      <th></th>\n",
       "      <th>User ID</th>\n",
       "      <th>Route ID</th>\n",
       "      <th>Bike Region ID</th>\n",
       "      <th>Payment Plan</th>\n",
       "      <th>Start Hub</th>\n",
       "      <th>Start Area</th>\n",
       "      <th>Start Special Area</th>\n",
       "      <th>Start Latitude</th>\n",
       "      <th>Start Longitude</th>\n",
       "      <th>Start Date</th>\n",
       "      <th>...</th>\n",
       "      <th>Bike ID</th>\n",
       "      <th>Bike Name</th>\n",
       "      <th>Distance [Miles]</th>\n",
       "      <th>Duration</th>\n",
       "      <th>Rental Access Path</th>\n",
       "      <th>Multiple Rental</th>\n",
       "      <th>Ride cost</th>\n",
       "      <th>Fees</th>\n",
       "      <th>Bonuses</th>\n",
       "      <th>Total cost</th>\n",
       "    </tr>\n",
       "  </thead>\n",
       "  <tbody>\n",
       "    <tr>\n",
       "      <th>0</th>\n",
       "      <td>843470</td>\n",
       "      <td>7267796</td>\n",
       "      <td>NaN</td>\n",
       "      <td>STUDENT PASS SUBSCRIPTION</td>\n",
       "      <td>GEORGIA TECH - WEST CAMPUS HOUSING</td>\n",
       "      <td>Relay System</td>\n",
       "      <td>NaN</td>\n",
       "      <td>33.77873</td>\n",
       "      <td>-84.404715</td>\n",
       "      <td>2018-06-01</td>\n",
       "      <td>...</td>\n",
       "      <td>10833</td>\n",
       "      <td>2687</td>\n",
       "      <td>0.91</td>\n",
       "      <td>00:19:40</td>\n",
       "      <td>keypad</td>\n",
       "      <td>False</td>\n",
       "      <td>0.0</td>\n",
       "      <td>0.0</td>\n",
       "      <td>0.0</td>\n",
       "      <td>0.0</td>\n",
       "    </tr>\n",
       "    <tr>\n",
       "      <th>1</th>\n",
       "      <td>257486</td>\n",
       "      <td>7267951</td>\n",
       "      <td>NaN</td>\n",
       "      <td>MONTHLY PASS SUBSCRIPTION</td>\n",
       "      <td>CHEROKEE &amp; WOODWARD</td>\n",
       "      <td>Relay System</td>\n",
       "      <td>NaN</td>\n",
       "      <td>33.745725</td>\n",
       "      <td>-84.373215</td>\n",
       "      <td>2018-06-01</td>\n",
       "      <td>...</td>\n",
       "      <td>13771</td>\n",
       "      <td>2991</td>\n",
       "      <td>2.82</td>\n",
       "      <td>00:15:36</td>\n",
       "      <td>mobile</td>\n",
       "      <td>False</td>\n",
       "      <td>0.0</td>\n",
       "      <td>0.0</td>\n",
       "      <td>0.0</td>\n",
       "      <td>0.0</td>\n",
       "    </tr>\n",
       "    <tr>\n",
       "      <th>2</th>\n",
       "      <td>487012</td>\n",
       "      <td>7270508</td>\n",
       "      <td>NaN</td>\n",
       "      <td>THE COCA-COLA COMPANY</td>\n",
       "      <td>CENTENNIAL OLYMPIC PARK</td>\n",
       "      <td>Relay System</td>\n",
       "      <td>NaN</td>\n",
       "      <td>33.76043</td>\n",
       "      <td>-84.39448</td>\n",
       "      <td>2018-06-01</td>\n",
       "      <td>...</td>\n",
       "      <td>12382</td>\n",
       "      <td>1026</td>\n",
       "      <td>2.39</td>\n",
       "      <td>00:18:58</td>\n",
       "      <td>keypad</td>\n",
       "      <td>False</td>\n",
       "      <td>0.0</td>\n",
       "      <td>0.0</td>\n",
       "      <td>0.0</td>\n",
       "      <td>0.0</td>\n",
       "    </tr>\n",
       "    <tr>\n",
       "      <th>3</th>\n",
       "      <td>678985</td>\n",
       "      <td>7270631</td>\n",
       "      <td>NaN</td>\n",
       "      <td>SNAP PASS SUBSCRIPTION</td>\n",
       "      <td>PIEDMONT PARK WEST</td>\n",
       "      <td>Relay System</td>\n",
       "      <td>NaN</td>\n",
       "      <td>33.78656333333333</td>\n",
       "      <td>-84.37791833333333</td>\n",
       "      <td>2018-06-01</td>\n",
       "      <td>...</td>\n",
       "      <td>10874</td>\n",
       "      <td>2660</td>\n",
       "      <td>5.96</td>\n",
       "      <td>00:35:27</td>\n",
       "      <td>keypad</td>\n",
       "      <td>False</td>\n",
       "      <td>0.0</td>\n",
       "      <td>0.0</td>\n",
       "      <td>0.0</td>\n",
       "      <td>0.0</td>\n",
       "    </tr>\n",
       "    <tr>\n",
       "      <th>4</th>\n",
       "      <td>560547</td>\n",
       "      <td>7270759</td>\n",
       "      <td>NaN</td>\n",
       "      <td>ANNUAL PASS</td>\n",
       "      <td>GREENWOOD AVE BELTLINE</td>\n",
       "      <td>Relay System</td>\n",
       "      <td>NaN</td>\n",
       "      <td>33.77672666666667</td>\n",
       "      <td>-84.365165</td>\n",
       "      <td>2018-06-01</td>\n",
       "      <td>...</td>\n",
       "      <td>11783</td>\n",
       "      <td>2590</td>\n",
       "      <td>1.43</td>\n",
       "      <td>00:12:31</td>\n",
       "      <td>keypad</td>\n",
       "      <td>False</td>\n",
       "      <td>0.0</td>\n",
       "      <td>0.0</td>\n",
       "      <td>0.0</td>\n",
       "      <td>0.0</td>\n",
       "    </tr>\n",
       "  </tbody>\n",
       "</table>\n",
       "<p>5 rows × 30 columns</p>\n",
       "</div>"
      ],
      "text/plain": [
       "   User ID  Route ID  Bike Region ID               Payment Plan  \\\n",
       "0   843470   7267796             NaN  STUDENT PASS SUBSCRIPTION   \n",
       "1   257486   7267951             NaN  MONTHLY PASS SUBSCRIPTION   \n",
       "2   487012   7270508             NaN      THE COCA-COLA COMPANY   \n",
       "3   678985   7270631             NaN     SNAP PASS SUBSCRIPTION   \n",
       "4   560547   7270759             NaN                ANNUAL PASS   \n",
       "\n",
       "                             Start Hub    Start Area  Start Special Area  \\\n",
       "0  GEORGIA TECH - WEST CAMPUS HOUSING   Relay System                 NaN   \n",
       "1                  CHEROKEE & WOODWARD  Relay System                 NaN   \n",
       "2              CENTENNIAL OLYMPIC PARK  Relay System                 NaN   \n",
       "3                   PIEDMONT PARK WEST  Relay System                 NaN   \n",
       "4               GREENWOOD AVE BELTLINE  Relay System                 NaN   \n",
       "\n",
       "      Start Latitude     Start Longitude  Start Date    ...     Bike ID  \\\n",
       "0           33.77873          -84.404715  2018-06-01    ...       10833   \n",
       "1          33.745725          -84.373215  2018-06-01    ...       13771   \n",
       "2           33.76043           -84.39448  2018-06-01    ...       12382   \n",
       "3  33.78656333333333  -84.37791833333333  2018-06-01    ...       10874   \n",
       "4  33.77672666666667          -84.365165  2018-06-01    ...       11783   \n",
       "\n",
       "  Bike Name Distance [Miles]  Duration Rental Access Path Multiple Rental  \\\n",
       "0      2687             0.91  00:19:40             keypad           False   \n",
       "1      2991             2.82  00:15:36             mobile           False   \n",
       "2      1026             2.39  00:18:58             keypad           False   \n",
       "3      2660             5.96  00:35:27             keypad           False   \n",
       "4      2590             1.43  00:12:31             keypad           False   \n",
       "\n",
       "  Ride cost Fees Bonuses Total cost  \n",
       "0       0.0  0.0     0.0        0.0  \n",
       "1       0.0  0.0     0.0        0.0  \n",
       "2       0.0  0.0     0.0        0.0  \n",
       "3       0.0  0.0     0.0        0.0  \n",
       "4       0.0  0.0     0.0        0.0  \n",
       "\n",
       "[5 rows x 30 columns]"
      ]
     },
     "execution_count": 3,
     "metadata": {},
     "output_type": "execute_result"
    }
   ],
   "source": [
    "# match all the files that have csv as file type endings\n",
    "files = list(filter(lambda x: len(x.split('.')) == 2 \n",
    "                    and 'csv' in x.split('.'), files))\n",
    "\n",
    "# concat all of the csv's into a dataframe\n",
    "data = pd.concat([pd.read_csv(f) for f in files], ignore_index = True, sort=False)\n",
    "\n",
    "# print the head of the data\n",
    "data.head()"
   ]
  },
  {
   "cell_type": "markdown",
   "metadata": {},
   "source": [
    "#### 2.3 Add the missing csv file into the dataframe"
   ]
  },
  {
   "cell_type": "code",
   "execution_count": 5,
   "metadata": {},
   "outputs": [
    {
     "data": {
      "text/plain": [
       "<matplotlib.axes._subplots.AxesSubplot at 0x12377b4a8>"
      ]
     },
     "execution_count": 5,
     "metadata": {},
     "output_type": "execute_result"
    },
    {
     "data": {
      "image/png": "[encoded data removed]",
      "text/plain": [
       "<Figure size 432x288 with 1 Axes>"
      ]
     },
     "metadata": {},
     "output_type": "display_data"
    }
   ],
   "source": [
    "# add the file trips_relay_bike_share_09-01-2017-10-01-2017.csv.html\n",
    "# to the final dataframe\n",
    "Counter(data['Total cost'])\n",
    "len(data['Bike ID'])\n",
    "# len(list(set(data['User ID'])))\n",
    "# len(list(set(data['Bike ID'])))\n",
    "# np.median(np.array(data['Distance [Miles]'].values))\n",
    "sns.lineplot(y=\"Distance [Miles]\", x=range(len(data)), data=data)"
   ]
  },
  {
   "cell_type": "markdown",
   "metadata": {},
   "source": [
    "#### 2.4 Write the final dataframe into a csv file"
   ]
  },
  {
   "cell_type": "code",
   "execution_count": null,
   "metadata": {},
   "outputs": [],
   "source": [
    "# use to_csv() function to write the data into a dataframe\n",
    "data.to_csv('project_atlanta_dataset_alpha.csv', encoding='utf-8')"
   ]
  }
 ],
 "metadata": {
  "kernelspec": {
   "display_name": "Python 3",
   "language": "python",
   "name": "python3"
  },
  "language_info": {
   "codemirror_mode": {
    "name": "ipython",
    "version": 3
   },
   "file_extension": ".py",
   "mimetype": "text/x-python",
   "name": "python",
   "nbconvert_exporter": "python",
   "pygments_lexer": "ipython3",
   "version": "3.6.5"
  }
 },
 "nbformat": 4,
 "nbformat_minor": 2
}
